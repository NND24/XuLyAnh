{
 "cells": [
  {
   "cell_type": "code",
   "execution_count": null,
   "metadata": {
    "vscode": {
     "languageId": "plaintext"
    }
   },
   "outputs": [],
   "source": [
    "import cv2\n",
    "import numpy as np\n",
    "import os\n",
    "\n",
    "# Biến toàn cục để lưu vùng được chọn\n",
    "drawing = False  # True nếu đang vẽ\n",
    "ix, iy = -1, -1  # Toạ độ bắt đầu vẽ\n",
    "\n",
    "def draw_rectangle(event, x, y, flags, param):\n",
    "    global ix, iy, drawing\n",
    "    \n",
    "    # Nếu nút chuột trái được nhấn\n",
    "    if event == cv2.EVENT_LBUTTONDOWN:\n",
    "        drawing = True\n",
    "        ix, iy = x, y\n",
    "    \n",
    "    # Nếu chuột di chuyển và đang vẽ\n",
    "    elif event == cv2.EVENT_MOUSEMOVE:\n",
    "        if drawing:\n",
    "            img_copy[:] = img.copy()\n",
    "            cv2.rectangle(img_copy, (ix, iy), (x, y), (255, 255, 255), -1)  # Vẽ hình chữ nhật trắng\n",
    "    \n",
    "    # Nếu nút chuột trái được nhả ra\n",
    "    elif event == cv2.EVENT_LBUTTONUP:\n",
    "        drawing = False\n",
    "        cv2.rectangle(img_copy, (ix, iy), (x, y), (255, 255, 255), -1)  # Hoàn tất vẽ\n",
    "\n",
    "def create_mask(original_image_path, output_mask_path):\n",
    "    global img, img_copy\n",
    "    img = cv2.imread(original_image_path)\n",
    "    img_copy = img.copy()\n",
    "    \n",
    "    # Tạo cửa sổ và gán hàm xử lý sự kiện\n",
    "    cv2.namedWindow(\"Image\")\n",
    "    cv2.setMouseCallback(\"Image\", draw_rectangle)\n",
    "\n",
    "    while True:\n",
    "        cv2.imshow(\"Image\", img_copy)\n",
    "        \n",
    "        # Nhấn 'c' để hoàn tất\n",
    "        if cv2.waitKey(1) & 0xFF == ord('c'):\n",
    "            break\n",
    "\n",
    "    # Lưu mask\n",
    "    mask = cv2.cvtColor(img_copy, cv2.COLOR_BGR2GRAY)\n",
    "    mask[mask > 0] = 255  # Chuyển các pixel khác 0 thành 255 (trắng)\n",
    "    cv2.imwrite(output_mask_path, mask)\n",
    "    \n",
    "    cv2.destroyAllWindows()\n",
    "\n",
    "# Đường dẫn đến ảnh gốc và thư mục lưu mặt nạ\n",
    "original_image_path = './DenoisingImages/original/sample_image.jpg'  # Thay bằng ảnh gốc của bạn\n",
    "output_mask_path = './DenoisingImages/masks/sample_mask.jpg'          # Thư mục lưu mặt nạ\n",
    "\n",
    "create_mask(original_image_path, output_mask_path)\n"
   ]
  },
  {
   "cell_type": "code",
   "execution_count": null,
   "metadata": {
    "vscode": {
     "languageId": "plaintext"
    }
   },
   "outputs": [],
   "source": [
    "import cv2\n",
    "import numpy as np\n",
    "import os\n",
    "\n",
    "def inpaint_image(original_folder, mask_folder, output_folder):\n",
    "    if not os.path.exists(output_folder):\n",
    "        os.makedirs(output_folder)\n",
    "\n",
    "    for img_name in os.listdir(original_folder):\n",
    "        img_path = os.path.join(original_folder, img_name)\n",
    "        mask_path = os.path.join(mask_folder, img_name)\n",
    "\n",
    "        # Đọc ảnh gốc\n",
    "        img = cv2.imread(img_path)\n",
    "        \n",
    "        # Đọc ảnh mặt nạ\n",
    "        mask = cv2.imread(mask_path, cv2.IMREAD_GRAYSCALE)\n",
    "\n",
    "        # Thực hiện inpainting\n",
    "        inpainted_img = cv2.inpaint(img, mask, inpaintRadius=3, flags=cv2.INPAINT_TELEA)\n",
    "\n",
    "        # Lưu ảnh đã inpaint\n",
    "        cv2.imwrite(os.path.join(output_folder, img_name), inpainted_img)\n",
    "\n",
    "# Đường dẫn đến thư mục chứa ảnh gốc và mặt nạ\n",
    "original_folder = './DenoisingImages/original'  # Thay bằng thư mục chứa ảnh gốc của bạn\n",
    "mask_folder = './DenoisingImages/masks'          # Thay bằng thư mục chứa mặt nạ (đen trắng) của bạn\n",
    "output_folder = './DenoisingImages/inpainted'    # Thư mục lưu ảnh đã inpaint\n",
    "\n",
    "inpaint_image(original_folder, mask_folder, output_folder)\n"
   ]
  }
 ],
 "metadata": {
  "language_info": {
   "name": "python"
  }
 },
 "nbformat": 4,
 "nbformat_minor": 2
}
