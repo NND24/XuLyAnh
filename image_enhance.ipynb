{
 "cells": [
  {
   "cell_type": "code",
   "execution_count": null,
   "metadata": {},
   "outputs": [
    {
     "ename": "",
     "evalue": "",
     "output_type": "error",
     "traceback": [
      "\u001b[1;31mFailed to start the Kernel. \n",
      "\u001b[1;31mUnable to start Kernel 'Python' due to a timeout waiting for the ports to get used. \n",
      "\u001b[1;31mView Jupyter <a href='command:jupyter.viewOutput'>log</a> for further details."
     ]
    }
   ],
   "source": [
    "import cv2\n",
    "import numpy as np\n",
    "\n",
    "def denoise_image(image):\n",
    "    \"\"\"Áp dụng denoising cho ảnh.\"\"\"\n",
    "    return cv2.fastNlMeansDenoisingColored(image, None, 10, 10, 7, 21)\n",
    "\n",
    "def deblur_image(image):\n",
    "    \"\"\"Áp dụng deblurring cho ảnh.\"\"\"\n",
    "    # Áp dụng bộ lọc Gaussian để giảm độ mờ\n",
    "    kernel = np.ones((5, 5), np.float32) / 25\n",
    "    return cv2.filter2D(image, -1, kernel)\n",
    "\n",
    "def enhance_image(image):\n",
    "    \"\"\"Tăng cường độ sáng và độ tương phản cho ảnh.\"\"\"\n",
    "    # Chuyển đổi sang không gian màu YUV\n",
    "    yuv = cv2.cvtColor(image, cv2.COLOR_BGR2YUV)\n",
    "    # Tăng cường độ sáng\n",
    "    yuv[:, :, 0] = cv2.equalizeHist(yuv[:, :, 0])\n",
    "    # Chuyển đổi về không gian màu BGR\n",
    "    return cv2.cvtColor(yuv, cv2.COLOR_YUV2BGR)\n",
    "\n",
    "def restore_image(image_path):\n",
    "    \"\"\"Khôi phục ảnh bằng cách kết hợp các kỹ thuật.\"\"\"\n",
    "    # Đọc ảnh\n",
    "    image = cv2.imread(image_path)\n",
    "\n",
    "    # Bước 1: Denoising\n",
    "    denoised_image = denoise_image(image)\n",
    "\n",
    "    # Bước 2: Deblurring\n",
    "    deblurred_image = deblur_image(denoised_image)\n",
    "\n",
    "    # Bước 3: Tăng cường chất lượng ảnh\n",
    "    enhanced_image = enhance_image(deblurred_image)\n",
    "\n",
    "    return enhanced_image\n",
    "\n",
    "# Đường dẫn đến ảnh của bạn\n",
    "image_path = './DenoisingImages/blurred/0.jpg  # Thay thế bằng đường dẫn đến ảnh của bạn\n",
    "restored_image = restore_image(image_path)\n",
    "\n",
    "# Hiển thị ảnh gốc và ảnh đã khôi phục\n",
    "cv2.imshow('Original Image', cv2.imread(image_path))\n",
    "cv2.imshow('Restored Image', restored_image)\n",
    "cv2.waitKey(0)\n",
    "cv2.destroyAllWindows()\n"
   ]
  }
 ],
 "metadata": {
  "kernelspec": {
   "display_name": "venv",
   "language": "python",
   "name": "python3"
  },
  "language_info": {
   "name": "python",
   "version": "3.12.2"
  }
 },
 "nbformat": 4,
 "nbformat_minor": 2
}
